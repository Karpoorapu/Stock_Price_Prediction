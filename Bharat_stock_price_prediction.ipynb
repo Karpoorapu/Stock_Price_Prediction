{
 "cells": [
  {
   "cell_type": "markdown",
   "id": "01646edb",
   "metadata": {},
   "source": [
    "# Task 1- Stock Prediction :"
   ]
  },
  {
   "cell_type": "markdown",
   "id": "105ae623",
   "metadata": {},
   "source": [
    "##### Take stock price of any company youwant and predicts its price by using LSTM.Use only Jupyter notebook code."
   ]
  },
  {
   "cell_type": "markdown",
   "id": "5a2862bb",
   "metadata": {},
   "source": [
    "#### Importing important Libraries"
   ]
  },
  {
   "cell_type": "code",
   "execution_count": 1,
   "id": "a6fc7585",
   "metadata": {},
   "outputs": [],
   "source": [
    "import numpy as np\n",
    "import pandas as pd\n",
    "import matplotlib.pyplot as plt\n",
    "import tensorflow as tf\n",
    "from tensorflow.keras.models import Sequential\n",
    "from tensorflow.keras.layers import Dense, LSTM, Dropout\n",
    "from sklearn.preprocessing import MinMaxScaler"
   ]
  },
  {
   "cell_type": "markdown",
   "id": "7f10680b",
   "metadata": {},
   "source": [
    "#### Load the Dataset"
   ]
  },
  {
   "cell_type": "code",
   "execution_count": 10,
   "id": "40ec2932",
   "metadata": {},
   "outputs": [],
   "source": [
    "df=pd.read_csv(\"C:\\\\Users\\\\ss\\Downloads\\\\archive.zip\")"
   ]
  },
  {
   "cell_type": "code",
   "execution_count": 5,
   "id": "9a72b68a",
   "metadata": {},
   "outputs": [
    {
     "data": {
      "text/html": [
       "<div>\n",
       "<style scoped>\n",
       "    .dataframe tbody tr th:only-of-type {\n",
       "        vertical-align: middle;\n",
       "    }\n",
       "\n",
       "    .dataframe tbody tr th {\n",
       "        vertical-align: top;\n",
       "    }\n",
       "\n",
       "    .dataframe thead th {\n",
       "        text-align: right;\n",
       "    }\n",
       "</style>\n",
       "<table border=\"1\" class=\"dataframe\">\n",
       "  <thead>\n",
       "    <tr style=\"text-align: right;\">\n",
       "      <th></th>\n",
       "      <th>Date</th>\n",
       "      <th>Open</th>\n",
       "      <th>High</th>\n",
       "      <th>Low</th>\n",
       "      <th>Close</th>\n",
       "      <th>Volume</th>\n",
       "      <th>Adj Close</th>\n",
       "    </tr>\n",
       "  </thead>\n",
       "  <tbody>\n",
       "    <tr>\n",
       "      <th>0</th>\n",
       "      <td>6/29/2010</td>\n",
       "      <td>19.000000</td>\n",
       "      <td>25.000000</td>\n",
       "      <td>17.540001</td>\n",
       "      <td>23.889999</td>\n",
       "      <td>18766300</td>\n",
       "      <td>23.889999</td>\n",
       "    </tr>\n",
       "    <tr>\n",
       "      <th>1</th>\n",
       "      <td>6/30/2010</td>\n",
       "      <td>25.790001</td>\n",
       "      <td>30.420000</td>\n",
       "      <td>23.299999</td>\n",
       "      <td>23.830000</td>\n",
       "      <td>17187100</td>\n",
       "      <td>23.830000</td>\n",
       "    </tr>\n",
       "    <tr>\n",
       "      <th>2</th>\n",
       "      <td>7/1/2010</td>\n",
       "      <td>25.000000</td>\n",
       "      <td>25.920000</td>\n",
       "      <td>20.270000</td>\n",
       "      <td>21.959999</td>\n",
       "      <td>8218800</td>\n",
       "      <td>21.959999</td>\n",
       "    </tr>\n",
       "    <tr>\n",
       "      <th>3</th>\n",
       "      <td>7/2/2010</td>\n",
       "      <td>23.000000</td>\n",
       "      <td>23.100000</td>\n",
       "      <td>18.709999</td>\n",
       "      <td>19.200001</td>\n",
       "      <td>5139800</td>\n",
       "      <td>19.200001</td>\n",
       "    </tr>\n",
       "    <tr>\n",
       "      <th>4</th>\n",
       "      <td>7/6/2010</td>\n",
       "      <td>20.000000</td>\n",
       "      <td>20.000000</td>\n",
       "      <td>15.830000</td>\n",
       "      <td>16.110001</td>\n",
       "      <td>6866900</td>\n",
       "      <td>16.110001</td>\n",
       "    </tr>\n",
       "    <tr>\n",
       "      <th>...</th>\n",
       "      <td>...</td>\n",
       "      <td>...</td>\n",
       "      <td>...</td>\n",
       "      <td>...</td>\n",
       "      <td>...</td>\n",
       "      <td>...</td>\n",
       "      <td>...</td>\n",
       "    </tr>\n",
       "    <tr>\n",
       "      <th>1687</th>\n",
       "      <td>3/13/2017</td>\n",
       "      <td>244.820007</td>\n",
       "      <td>246.850006</td>\n",
       "      <td>242.779999</td>\n",
       "      <td>246.169998</td>\n",
       "      <td>3010700</td>\n",
       "      <td>246.169998</td>\n",
       "    </tr>\n",
       "    <tr>\n",
       "      <th>1688</th>\n",
       "      <td>3/14/2017</td>\n",
       "      <td>246.110001</td>\n",
       "      <td>258.119995</td>\n",
       "      <td>246.020004</td>\n",
       "      <td>258.000000</td>\n",
       "      <td>7575500</td>\n",
       "      <td>258.000000</td>\n",
       "    </tr>\n",
       "    <tr>\n",
       "      <th>1689</th>\n",
       "      <td>3/15/2017</td>\n",
       "      <td>257.000000</td>\n",
       "      <td>261.000000</td>\n",
       "      <td>254.270004</td>\n",
       "      <td>255.729996</td>\n",
       "      <td>4816600</td>\n",
       "      <td>255.729996</td>\n",
       "    </tr>\n",
       "    <tr>\n",
       "      <th>1690</th>\n",
       "      <td>3/16/2017</td>\n",
       "      <td>262.399994</td>\n",
       "      <td>265.750000</td>\n",
       "      <td>259.059998</td>\n",
       "      <td>262.049988</td>\n",
       "      <td>7100400</td>\n",
       "      <td>262.049988</td>\n",
       "    </tr>\n",
       "    <tr>\n",
       "      <th>1691</th>\n",
       "      <td>3/17/2017</td>\n",
       "      <td>264.000000</td>\n",
       "      <td>265.329987</td>\n",
       "      <td>261.200012</td>\n",
       "      <td>261.500000</td>\n",
       "      <td>6475900</td>\n",
       "      <td>261.500000</td>\n",
       "    </tr>\n",
       "  </tbody>\n",
       "</table>\n",
       "<p>1692 rows × 7 columns</p>\n",
       "</div>"
      ],
      "text/plain": [
       "           Date        Open        High         Low       Close    Volume  \\\n",
       "0     6/29/2010   19.000000   25.000000   17.540001   23.889999  18766300   \n",
       "1     6/30/2010   25.790001   30.420000   23.299999   23.830000  17187100   \n",
       "2      7/1/2010   25.000000   25.920000   20.270000   21.959999   8218800   \n",
       "3      7/2/2010   23.000000   23.100000   18.709999   19.200001   5139800   \n",
       "4      7/6/2010   20.000000   20.000000   15.830000   16.110001   6866900   \n",
       "...         ...         ...         ...         ...         ...       ...   \n",
       "1687  3/13/2017  244.820007  246.850006  242.779999  246.169998   3010700   \n",
       "1688  3/14/2017  246.110001  258.119995  246.020004  258.000000   7575500   \n",
       "1689  3/15/2017  257.000000  261.000000  254.270004  255.729996   4816600   \n",
       "1690  3/16/2017  262.399994  265.750000  259.059998  262.049988   7100400   \n",
       "1691  3/17/2017  264.000000  265.329987  261.200012  261.500000   6475900   \n",
       "\n",
       "       Adj Close  \n",
       "0      23.889999  \n",
       "1      23.830000  \n",
       "2      21.959999  \n",
       "3      19.200001  \n",
       "4      16.110001  \n",
       "...          ...  \n",
       "1687  246.169998  \n",
       "1688  258.000000  \n",
       "1689  255.729996  \n",
       "1690  262.049988  \n",
       "1691  261.500000  \n",
       "\n",
       "[1692 rows x 7 columns]"
      ]
     },
     "execution_count": 5,
     "metadata": {},
     "output_type": "execute_result"
    }
   ],
   "source": [
    "df"
   ]
  },
  {
   "cell_type": "code",
   "execution_count": 11,
   "id": "d62fe467",
   "metadata": {},
   "outputs": [
    {
     "data": {
      "text/html": [
       "<div>\n",
       "<style scoped>\n",
       "    .dataframe tbody tr th:only-of-type {\n",
       "        vertical-align: middle;\n",
       "    }\n",
       "\n",
       "    .dataframe tbody tr th {\n",
       "        vertical-align: top;\n",
       "    }\n",
       "\n",
       "    .dataframe thead th {\n",
       "        text-align: right;\n",
       "    }\n",
       "</style>\n",
       "<table border=\"1\" class=\"dataframe\">\n",
       "  <thead>\n",
       "    <tr style=\"text-align: right;\">\n",
       "      <th></th>\n",
       "      <th>Date</th>\n",
       "      <th>Open</th>\n",
       "      <th>High</th>\n",
       "      <th>Low</th>\n",
       "      <th>Close</th>\n",
       "      <th>Adj Close</th>\n",
       "      <th>Volume</th>\n",
       "    </tr>\n",
       "  </thead>\n",
       "  <tbody>\n",
       "    <tr>\n",
       "      <th>0</th>\n",
       "      <td>2010-07-01</td>\n",
       "      <td>5.000</td>\n",
       "      <td>5.184</td>\n",
       "      <td>4.054</td>\n",
       "      <td>4.392</td>\n",
       "      <td>4.392</td>\n",
       "      <td>41094000</td>\n",
       "    </tr>\n",
       "    <tr>\n",
       "      <th>1</th>\n",
       "      <td>2010-07-02</td>\n",
       "      <td>4.600</td>\n",
       "      <td>4.620</td>\n",
       "      <td>3.742</td>\n",
       "      <td>3.840</td>\n",
       "      <td>3.840</td>\n",
       "      <td>25699000</td>\n",
       "    </tr>\n",
       "    <tr>\n",
       "      <th>2</th>\n",
       "      <td>2010-07-06</td>\n",
       "      <td>4.000</td>\n",
       "      <td>4.000</td>\n",
       "      <td>3.166</td>\n",
       "      <td>3.222</td>\n",
       "      <td>3.222</td>\n",
       "      <td>34334500</td>\n",
       "    </tr>\n",
       "    <tr>\n",
       "      <th>3</th>\n",
       "      <td>2010-07-07</td>\n",
       "      <td>3.280</td>\n",
       "      <td>3.326</td>\n",
       "      <td>2.996</td>\n",
       "      <td>3.160</td>\n",
       "      <td>3.160</td>\n",
       "      <td>34608500</td>\n",
       "    </tr>\n",
       "    <tr>\n",
       "      <th>4</th>\n",
       "      <td>2010-07-08</td>\n",
       "      <td>3.228</td>\n",
       "      <td>3.504</td>\n",
       "      <td>3.114</td>\n",
       "      <td>3.492</td>\n",
       "      <td>3.492</td>\n",
       "      <td>38557000</td>\n",
       "    </tr>\n",
       "  </tbody>\n",
       "</table>\n",
       "</div>"
      ],
      "text/plain": [
       "         Date   Open   High    Low  Close  Adj Close    Volume\n",
       "0  2010-07-01  5.000  5.184  4.054  4.392      4.392  41094000\n",
       "1  2010-07-02  4.600  4.620  3.742  3.840      3.840  25699000\n",
       "2  2010-07-06  4.000  4.000  3.166  3.222      3.222  34334500\n",
       "3  2010-07-07  3.280  3.326  2.996  3.160      3.160  34608500\n",
       "4  2010-07-08  3.228  3.504  3.114  3.492      3.492  38557000"
      ]
     },
     "execution_count": 11,
     "metadata": {},
     "output_type": "execute_result"
    }
   ],
   "source": [
    "df.head()"
   ]
  },
  {
   "cell_type": "code",
   "execution_count": 12,
   "id": "955124e4",
   "metadata": {},
   "outputs": [
    {
     "data": {
      "text/plain": [
       "(2843, 7)"
      ]
     },
     "execution_count": 12,
     "metadata": {},
     "output_type": "execute_result"
    }
   ],
   "source": [
    "df.shape"
   ]
  },
  {
   "cell_type": "code",
   "execution_count": 13,
   "id": "d332950c",
   "metadata": {},
   "outputs": [
    {
     "name": "stdout",
     "output_type": "stream",
     "text": [
      "<class 'pandas.core.frame.DataFrame'>\n",
      "RangeIndex: 2843 entries, 0 to 2842\n",
      "Data columns (total 7 columns):\n",
      " #   Column     Non-Null Count  Dtype  \n",
      "---  ------     --------------  -----  \n",
      " 0   Date       2843 non-null   object \n",
      " 1   Open       2843 non-null   float64\n",
      " 2   High       2843 non-null   float64\n",
      " 3   Low        2843 non-null   float64\n",
      " 4   Close      2843 non-null   float64\n",
      " 5   Adj Close  2843 non-null   float64\n",
      " 6   Volume     2843 non-null   int64  \n",
      "dtypes: float64(5), int64(1), object(1)\n",
      "memory usage: 155.6+ KB\n"
     ]
    }
   ],
   "source": [
    "df.info()"
   ]
  },
  {
   "cell_type": "markdown",
   "id": "7c4d3a4f",
   "metadata": {},
   "source": [
    "#### Ploting the closing price of the stock to visualize the trend"
   ]
  },
  {
   "cell_type": "code",
   "execution_count": 14,
   "id": "6933ca0d",
   "metadata": {},
   "outputs": [
    {
     "data": {
      "image/png": "[encoded data removed]",
      "text/plain": [
       "<Figure size 1152x576 with 1 Axes>"
      ]
     },
     "metadata": {
      "needs_background": "light"
     },
     "output_type": "display_data"
    }
   ],
   "source": [
    "plt.figure(figsize=(16,8))\n",
    "plt.title('Close Price History')\n",
    "plt.plot(df['Close'])\n",
    "plt.xlabel('Date', fontsize=18)\n",
    "plt.ylabel('Close Price USD ($)', fontsize=18)\n",
    "plt.show()"
   ]
  },
  {
   "cell_type": "markdown",
   "id": "aa108a31",
   "metadata": {},
   "source": [
    "#### we need to preprocess the data before feeding it into the LSTM."
   ]
  },
  {
   "cell_type": "code",
   "execution_count": 15,
   "id": "cd795b5c",
   "metadata": {},
   "outputs": [],
   "source": [
    "data = df.filter(['Close']).values"
   ]
  },
  {
   "cell_type": "markdown",
   "id": "d2deff1b",
   "metadata": {},
   "source": [
    "#### we will normalize the data between 0 and 1 using the MinMaxScaler:"
   ]
  },
  {
   "cell_type": "code",
   "execution_count": 16,
   "id": "39bcce75",
   "metadata": {},
   "outputs": [],
   "source": [
    "scaler = MinMaxScaler(feature_range=(0,1))\n",
    "scaled_data = scaler.fit_transform(data)"
   ]
  },
  {
   "cell_type": "markdown",
   "id": "3ee11ae9",
   "metadata": {},
   "source": [
    "#### To Train the Dataset"
   ]
  },
  {
   "cell_type": "code",
   "execution_count": 17,
   "id": "d587d13a",
   "metadata": {},
   "outputs": [],
   "source": [
    "train_data = scaled_data[:int(len(scaled_data)*0.8)]\n",
    "x_train = []\n",
    "y_train = []\n",
    "\n",
    "for i in range(60, len(train_data)):\n",
    "    x_train.append(train_data[i-60:i, 0])\n",
    "    y_train.append(train_data[i, 0])\n",
    "    \n",
    "x_train, y_train = np.array(x_train), np.array(y_train)\n",
    "x_train = np.reshape(x_train, (x_train.shape[0], x_train.shape[1], 1))"
   ]
  },
  {
   "cell_type": "markdown",
   "id": "06539da0",
   "metadata": {},
   "source": [
    "#### Build the LSTM model"
   ]
  },
  {
   "cell_type": "code",
   "execution_count": 20,
   "id": "b77259db",
   "metadata": {},
   "outputs": [
    {
     "name": "stdout",
     "output_type": "stream",
     "text": [
      "Epoch 1/50\n",
      "70/70 [==============================] - 7s 46ms/step - loss: 1.5982e-04\n",
      "Epoch 2/50\n",
      "70/70 [==============================] - 3s 40ms/step - loss: 3.5058e-05\n",
      "Epoch 3/50\n",
      "70/70 [==============================] - 3s 44ms/step - loss: 3.1761e-05\n",
      "Epoch 4/50\n",
      "70/70 [==============================] - 3s 46ms/step - loss: 2.8617e-05\n",
      "Epoch 5/50\n",
      "70/70 [==============================] - 3s 49ms/step - loss: 2.7021e-05\n",
      "Epoch 6/50\n",
      "70/70 [==============================] - 3s 46ms/step - loss: 2.7290e-05\n",
      "Epoch 7/50\n",
      "70/70 [==============================] - 5s 64ms/step - loss: 2.0749e-05\n",
      "Epoch 8/50\n",
      "70/70 [==============================] - 5s 75ms/step - loss: 2.3480e-05\n",
      "Epoch 9/50\n",
      "70/70 [==============================] - 5s 67ms/step - loss: 2.0171e-05\n",
      "Epoch 10/50\n",
      "70/70 [==============================] - 5s 68ms/step - loss: 1.9474e-05\n",
      "Epoch 11/50\n",
      "70/70 [==============================] - 6s 89ms/step - loss: 1.8705e-05\n",
      "Epoch 12/50\n",
      "70/70 [==============================] - 6s 88ms/step - loss: 1.7945e-05\n",
      "Epoch 13/50\n",
      "70/70 [==============================] - 6s 83ms/step - loss: 1.9078e-05\n",
      "Epoch 14/50\n",
      "70/70 [==============================] - 5s 75ms/step - loss: 1.8150e-05\n",
      "Epoch 15/50\n",
      "70/70 [==============================] - 6s 80ms/step - loss: 1.6000e-05\n",
      "Epoch 16/50\n",
      "70/70 [==============================] - 6s 83ms/step - loss: 1.7371e-05\n",
      "Epoch 17/50\n",
      "70/70 [==============================] - 6s 84ms/step - loss: 1.6031e-05\n",
      "Epoch 18/50\n",
      "70/70 [==============================] - 6s 85ms/step - loss: 1.4601e-05\n",
      "Epoch 19/50\n",
      "70/70 [==============================] - 6s 82ms/step - loss: 1.4521e-05\n",
      "Epoch 20/50\n",
      "70/70 [==============================] - 6s 84ms/step - loss: 1.6109e-05\n",
      "Epoch 21/50\n",
      "70/70 [==============================] - 5s 77ms/step - loss: 1.3795e-05\n",
      "Epoch 22/50\n",
      "70/70 [==============================] - 6s 82ms/step - loss: 1.5558e-05\n",
      "Epoch 23/50\n",
      "70/70 [==============================] - 5s 73ms/step - loss: 1.3219e-05\n",
      "Epoch 24/50\n",
      "70/70 [==============================] - 5s 75ms/step - loss: 1.5155e-05\n",
      "Epoch 25/50\n",
      "70/70 [==============================] - 5s 78ms/step - loss: 1.4547e-05\n",
      "Epoch 26/50\n",
      "70/70 [==============================] - 4s 53ms/step - loss: 1.3806e-05\n",
      "Epoch 27/50\n",
      "70/70 [==============================] - 4s 59ms/step - loss: 1.3463e-05\n",
      "Epoch 28/50\n",
      "70/70 [==============================] - 4s 53ms/step - loss: 1.4287e-05\n",
      "Epoch 29/50\n",
      "70/70 [==============================] - 3s 50ms/step - loss: 1.4036e-05\n",
      "Epoch 30/50\n",
      "70/70 [==============================] - 4s 53ms/step - loss: 1.2626e-05\n",
      "Epoch 31/50\n",
      "70/70 [==============================] - 4s 55ms/step - loss: 1.5077e-05\n",
      "Epoch 32/50\n",
      "70/70 [==============================] - 3s 50ms/step - loss: 1.4290e-05\n",
      "Epoch 33/50\n",
      "70/70 [==============================] - 3s 48ms/step - loss: 1.3520e-05\n",
      "Epoch 34/50\n",
      "70/70 [==============================] - 3s 50ms/step - loss: 1.2916e-05\n",
      "Epoch 35/50\n",
      "70/70 [==============================] - 4s 50ms/step - loss: 1.4072e-05\n",
      "Epoch 36/50\n",
      "70/70 [==============================] - 4s 50ms/step - loss: 1.4648e-05\n",
      "Epoch 37/50\n",
      "70/70 [==============================] - 3s 49ms/step - loss: 1.2808e-05\n",
      "Epoch 38/50\n",
      "70/70 [==============================] - 3s 50ms/step - loss: 1.5868e-05\n",
      "Epoch 39/50\n",
      "70/70 [==============================] - 4s 63ms/step - loss: 1.2470e-05\n",
      "Epoch 40/50\n",
      "70/70 [==============================] - 4s 57ms/step - loss: 1.2474e-05\n",
      "Epoch 41/50\n",
      "70/70 [==============================] - 4s 55ms/step - loss: 1.3827e-05\n",
      "Epoch 42/50\n",
      "70/70 [==============================] - 4s 55ms/step - loss: 1.2682e-05\n",
      "Epoch 43/50\n",
      "70/70 [==============================] - 4s 54ms/step - loss: 1.2400e-05\n",
      "Epoch 44/50\n",
      "70/70 [==============================] - 4s 52ms/step - loss: 1.2827e-05\n",
      "Epoch 45/50\n",
      "70/70 [==============================] - 4s 53ms/step - loss: 1.2560e-05\n",
      "Epoch 46/50\n",
      "70/70 [==============================] - 3s 50ms/step - loss: 1.3561e-05\n",
      "Epoch 47/50\n",
      "70/70 [==============================] - 4s 57ms/step - loss: 1.1961e-05\n",
      "Epoch 48/50\n",
      "70/70 [==============================] - 9s 126ms/step - loss: 1.1144e-05\n",
      "Epoch 49/50\n",
      "70/70 [==============================] - 7s 103ms/step - loss: 1.1262e-05\n",
      "Epoch 50/50\n",
      "70/70 [==============================] - 3s 47ms/step - loss: 1.1022e-05\n"
     ]
    },
    {
     "data": {
      "text/plain": [
       "<keras.callbacks.History at 0x242a9f6d5d0>"
      ]
     },
     "execution_count": 20,
     "metadata": {},
     "output_type": "execute_result"
    }
   ],
   "source": [
    "model = Sequential()\n",
    "model.add(LSTM(50, return_sequences=True, input_shape=(x_train.shape[1], 1)))\n",
    "model.add(Dropout(0.2))\n",
    "model.add(LSTM(50, return_sequences=True))\n",
    "model.add(Dropout(0.2))\n",
    "model.add(LSTM(50))\n",
    "model.add(Dropout(0.2))\n",
    "model.add(Dense(1))\n",
    "\n",
    "model.compile(optimizer='adam', loss='mean_squared_error')\n",
    "\n",
    "model.fit(x_train, y_train, epochs=50, batch_size=32)"
   ]
  },
  {
   "cell_type": "markdown",
   "id": "8034f208",
   "metadata": {},
   "source": [
    "#### predictions on the test data"
   ]
  },
  {
   "cell_type": "code",
   "execution_count": 21,
   "id": "9076b6cd",
   "metadata": {},
   "outputs": [
    {
     "name": "stdout",
     "output_type": "stream",
     "text": [
      "18/18 [==============================] - 1s 17ms/step\n"
     ]
    }
   ],
   "source": [
    "test_data = scaled_data[int(len(scaled_data)*0.8) - 60:]\n",
    "x_test = []\n",
    "y_test = data[int(len(data)*0.8):, :]\n",
    "\n",
    "for i in range(60, len(test_data)):\n",
    "    x_test.append(test_data[i-60:i, 0])\n",
    "    \n",
    "x_test = np.array(x_test)\n",
    "x_test = np.reshape(x_test, (x_test.shape[0], x_test.shape[1], 1))\n",
    "\n",
    "predictions = model.predict(x_test)\n",
    "predictions = scaler.inverse_transform(predictions)"
   ]
  },
  {
   "cell_type": "markdown",
   "id": "679ec933",
   "metadata": {},
   "source": [
    "#### Visualizing the Predicted price as compared to Actual price"
   ]
  },
  {
   "cell_type": "code",
   "execution_count": 22,
   "id": "b182254c",
   "metadata": {},
   "outputs": [
    {
     "data": {
      "image/png": "[encoded data removed]",
      "text/plain": [
       "<Figure size 1152x576 with 1 Axes>"
      ]
     },
     "metadata": {
      "needs_background": "light"
     },
     "output_type": "display_data"
    }
   ],
   "source": [
    "plt.figure(figsize=(16,8))\n",
    "plt.title('Predicted vs Actual Stock Price')\n",
    "plt.plot(y_test, label='Actual Price')\n",
    "plt.plot(predictions, label='Predicted Price')\n",
    "plt.xlabel('Time', fontsize=18)\n",
    "plt.ylabel('Stock Price USD ($)', fontsize=18)\n",
    "plt.legend()\n",
    "plt.show()"
   ]
  }
 ],
 "metadata": {
  "kernelspec": {
   "display_name": "Python 3 (ipykernel)",
   "language": "python",
   "name": "python3"
  },
  "language_info": {
   "codemirror_mode": {
    "name": "ipython",
    "version": 3
   },
   "file_extension": ".py",
   "mimetype": "text/x-python",
   "name": "python",
   "nbconvert_exporter": "python",
   "pygments_lexer": "ipython3",
   "version": "3.10.5"
  }
 },
 "nbformat": 4,
 "nbformat_minor": 5
}
